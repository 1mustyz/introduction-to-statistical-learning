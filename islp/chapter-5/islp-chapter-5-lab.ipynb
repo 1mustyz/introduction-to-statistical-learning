{
 "cells": [
  {
   "cell_type": "markdown",
   "id": "5bb2c488",
   "metadata": {},
   "source": [
    "# Resampling\n",
    "\n",
    "Resampling involves repeatedly drawing samples from a training dataset and refitting a model of interest on each sample to gain additional insights about the fitted model. \n",
    "\n",
    "For example, to estimate the variability of a linear regression fit:\n",
    "- Draw different samples from the training data.\n",
    "- Fit a linear regression model to each new sample.\n",
    "- Examine how the resulting fits differ.\n",
    "\n",
    "This approach provides information not obtainable from fitting the model only once using the original training sample."
   ]
  },
  {
   "cell_type": "markdown",
   "id": "f5f062f1",
   "metadata": {},
   "source": [
    "# Cross-Validation and the Bootstrap\n",
    "\n",
    "## Cross-Validation\n",
    "Cross-validation is used to:\n",
    "- Estimate the **test error** associated with a statistical learning method to evaluate its performance.\n",
    "- Select the appropriate level of **flexibility** for a model.\n",
    "\n",
    "### Key Concepts\n",
    "- **Model Assessment**: The process of evaluating a model's performance.\n",
    "- **Model Selection**: The process of choosing the proper level of flexibility for a model.\n",
    "\n",
    "## The Bootstrap\n",
    "The bootstrap is used to:\n",
    "- Provide a measure of **accuracy** for:\n",
    "  - A parameter estimate.\n",
    "  - A given statistical learning method.\n",
    "- Commonly applied in various contexts to assess model reliability."
   ]
  },
  {
   "cell_type": "code",
   "execution_count": 1,
   "id": "ca728631",
   "metadata": {},
   "outputs": [],
   "source": [
    "import numpy as np\n",
    "import statsmodels.api as sm\n",
    "from ISLP import load_data\n",
    "from ISLP.models import (ModelSpec as MS , summarize , poly)\n",
    "from sklearn.model_selection import train_test_split"
   ]
  },
  {
   "cell_type": "code",
   "execution_count": 2,
   "id": "6ad35705",
   "metadata": {},
   "outputs": [],
   "source": [
    "from functools import partial\n",
    "from sklearn.model_selection import (cross_validate ,KFold ,ShuffleSplit)\n",
    "from sklearn.base import clone\n",
    "from ISLP.models import sklearn_sm"
   ]
  },
  {
   "cell_type": "markdown",
   "id": "1c1fe6f3",
   "metadata": {},
   "source": [
    "## 5.3.1 The Validation Set Approach"
   ]
  },
  {
   "cell_type": "markdown",
   "id": "202ceeb9",
   "metadata": {},
   "source": [
    "#### Validation Set Approach\n",
    "\n",
    "The validation set approach involves:\n",
    "- Dividing the dataset into two sets:\n",
    "  - **Training set**: Used to fit and train the model.\n",
    "  - **Validation set**: Used to estimate the **test error**.\n",
    "\n",
    "#### Drawbacks of the Validation Set Approach\n",
    "1. **High Variability in Test Error Estimate**:\n",
    "   - The validation estimate of the test error rate can vary significantly depending on which observations are included in the training set versus the validation set.\n",
    "2. **Overestimation of Test Error**:\n",
    "   - Only a subset of observations (those in the training set) is used to fit the model.\n",
    "   - Statistical methods often perform worse with fewer observations, leading the validation set error rate to overestimate the test error rate for a model fitted on the entire dataset."
   ]
  },
  {
   "cell_type": "code",
   "execution_count": 3,
   "id": "9f9a2e44",
   "metadata": {},
   "outputs": [
    {
     "data": {
      "text/html": [
       "<div>\n",
       "<style scoped>\n",
       "    .dataframe tbody tr th:only-of-type {\n",
       "        vertical-align: middle;\n",
       "    }\n",
       "\n",
       "    .dataframe tbody tr th {\n",
       "        vertical-align: top;\n",
       "    }\n",
       "\n",
       "    .dataframe thead th {\n",
       "        text-align: right;\n",
       "    }\n",
       "</style>\n",
       "<table border=\"1\" class=\"dataframe\">\n",
       "  <thead>\n",
       "    <tr style=\"text-align: right;\">\n",
       "      <th></th>\n",
       "      <th>mpg</th>\n",
       "      <th>cylinders</th>\n",
       "      <th>displacement</th>\n",
       "      <th>horsepower</th>\n",
       "      <th>weight</th>\n",
       "      <th>acceleration</th>\n",
       "      <th>year</th>\n",
       "      <th>origin</th>\n",
       "    </tr>\n",
       "    <tr>\n",
       "      <th>name</th>\n",
       "      <th></th>\n",
       "      <th></th>\n",
       "      <th></th>\n",
       "      <th></th>\n",
       "      <th></th>\n",
       "      <th></th>\n",
       "      <th></th>\n",
       "      <th></th>\n",
       "    </tr>\n",
       "  </thead>\n",
       "  <tbody>\n",
       "    <tr>\n",
       "      <th>chevrolet chevelle malibu</th>\n",
       "      <td>18.0</td>\n",
       "      <td>8</td>\n",
       "      <td>307.0</td>\n",
       "      <td>130</td>\n",
       "      <td>3504</td>\n",
       "      <td>12.0</td>\n",
       "      <td>70</td>\n",
       "      <td>1</td>\n",
       "    </tr>\n",
       "    <tr>\n",
       "      <th>buick skylark 320</th>\n",
       "      <td>15.0</td>\n",
       "      <td>8</td>\n",
       "      <td>350.0</td>\n",
       "      <td>165</td>\n",
       "      <td>3693</td>\n",
       "      <td>11.5</td>\n",
       "      <td>70</td>\n",
       "      <td>1</td>\n",
       "    </tr>\n",
       "    <tr>\n",
       "      <th>plymouth satellite</th>\n",
       "      <td>18.0</td>\n",
       "      <td>8</td>\n",
       "      <td>318.0</td>\n",
       "      <td>150</td>\n",
       "      <td>3436</td>\n",
       "      <td>11.0</td>\n",
       "      <td>70</td>\n",
       "      <td>1</td>\n",
       "    </tr>\n",
       "    <tr>\n",
       "      <th>amc rebel sst</th>\n",
       "      <td>16.0</td>\n",
       "      <td>8</td>\n",
       "      <td>304.0</td>\n",
       "      <td>150</td>\n",
       "      <td>3433</td>\n",
       "      <td>12.0</td>\n",
       "      <td>70</td>\n",
       "      <td>1</td>\n",
       "    </tr>\n",
       "    <tr>\n",
       "      <th>ford torino</th>\n",
       "      <td>17.0</td>\n",
       "      <td>8</td>\n",
       "      <td>302.0</td>\n",
       "      <td>140</td>\n",
       "      <td>3449</td>\n",
       "      <td>10.5</td>\n",
       "      <td>70</td>\n",
       "      <td>1</td>\n",
       "    </tr>\n",
       "  </tbody>\n",
       "</table>\n",
       "</div>"
      ],
      "text/plain": [
       "                            mpg  cylinders  displacement  horsepower  weight  \\\n",
       "name                                                                           \n",
       "chevrolet chevelle malibu  18.0          8         307.0         130    3504   \n",
       "buick skylark 320          15.0          8         350.0         165    3693   \n",
       "plymouth satellite         18.0          8         318.0         150    3436   \n",
       "amc rebel sst              16.0          8         304.0         150    3433   \n",
       "ford torino                17.0          8         302.0         140    3449   \n",
       "\n",
       "                           acceleration  year  origin  \n",
       "name                                                   \n",
       "chevrolet chevelle malibu          12.0    70       1  \n",
       "buick skylark 320                  11.5    70       1  \n",
       "plymouth satellite                 11.0    70       1  \n",
       "amc rebel sst                      12.0    70       1  \n",
       "ford torino                        10.5    70       1  "
      ]
     },
     "execution_count": 3,
     "metadata": {},
     "output_type": "execute_result"
    }
   ],
   "source": [
    "Auto = load_data('Auto')\n",
    "Auto.head()"
   ]
  },
  {
   "cell_type": "code",
   "execution_count": 4,
   "id": "9e6cd5e5",
   "metadata": {},
   "outputs": [],
   "source": [
    "# split data into training and validation\n",
    "Auto_train , Auto_valid = train_test_split (Auto , test_size =196, random_state =0)"
   ]
  },
  {
   "cell_type": "code",
   "execution_count": 5,
   "id": "1503af71",
   "metadata": {},
   "outputs": [],
   "source": [
    "# Training the model with training data\n",
    "hp_mm = MS(['horsepower'])\n",
    "X_train = hp_mm.fit_transform(Auto_train)\n",
    "y_train = Auto_train['mpg']\n",
    "model = sm.OLS(y_train , X_train)\n",
    "results = model.fit()"
   ]
  },
  {
   "cell_type": "code",
   "execution_count": 6,
   "id": "2d0e519c",
   "metadata": {},
   "outputs": [
    {
     "data": {
      "text/plain": [
       "23.61661706966988"
      ]
     },
     "execution_count": 6,
     "metadata": {},
     "output_type": "execute_result"
    }
   ],
   "source": [
    "# Testing the model with validation data\n",
    "X_valid = hp_mm.transform(Auto_valid)\n",
    "y_valid = Auto_valid['mpg']\n",
    "valid_pred = results.predict(X_valid)\n",
    "np.mean (( y_valid - valid_pred)**2)"
   ]
  },
  {
   "cell_type": "markdown",
   "id": "c2df2278",
   "metadata": {},
   "source": [
    "EvalMSE function that train and validate the model"
   ]
  },
  {
   "cell_type": "code",
   "execution_count": 7,
   "id": "38c1d2b1",
   "metadata": {},
   "outputs": [],
   "source": [
    "\n",
    "def evalMSE(terms, response, train, test):\n",
    "    mm = MS(terms)\n",
    "    X_train = mm.fit_transform(train)\n",
    "    y_train = train[response]\n",
    "    X_test = mm.transform(test)\n",
    "    y_test = test[response]\n",
    "\n",
    "    results = sm.OLS(y_train , X_train).fit()\n",
    "    test_pred = results.predict(X_test)\n",
    "    return np.mean (( y_test - test_pred)**2)"
   ]
  },
  {
   "cell_type": "markdown",
   "id": "ec0c3e89",
   "metadata": {},
   "source": [
    "Estimating Validation MSE for Linear, Quadratic and Cubic"
   ]
  },
  {
   "cell_type": "code",
   "execution_count": 8,
   "id": "5e2244fb",
   "metadata": {},
   "outputs": [
    {
     "data": {
      "text/plain": [
       "array([23.61661707, 18.76303135, 18.79694163])"
      ]
     },
     "execution_count": 8,
     "metadata": {},
     "output_type": "execute_result"
    }
   ],
   "source": [
    "MSE = np.zeros(3)\n",
    "for idx , degree in enumerate(range(1, 4)):\n",
    "    MSE[idx] = evalMSE (terms=[ poly('horsepower', degree)], response='mpg', train=Auto_train,    test=Auto_valid)\n",
    "\n",
    "MSE"
   ]
  },
  {
   "cell_type": "markdown",
   "id": "5722e50b",
   "metadata": {},
   "source": [
    "#### Proving High Variability in Test Error Estimate:\n",
    "We Validate the model again with another random split"
   ]
  },
  {
   "cell_type": "code",
   "execution_count": 9,
   "id": "62b97aa3",
   "metadata": {},
   "outputs": [],
   "source": [
    "Auto_train , Auto_valid = train_test_split(Auto , test_size =196, random_state =3)"
   ]
  },
  {
   "cell_type": "code",
   "execution_count": 16,
   "id": "b0634a9f",
   "metadata": {},
   "outputs": [
    {
     "data": {
      "text/plain": [
       "array([20.75540796, 16.94510676, 16.97437833])"
      ]
     },
     "execution_count": 16,
     "metadata": {},
     "output_type": "execute_result"
    }
   ],
   "source": [
    "MSE = np.zeros (3)\n",
    "for idx , degree in enumerate(range(1, 4)):\n",
    "    MSE[idx] = evalMSE ([ poly('horsepower', degree)],  'mpg',  Auto_train, Auto_valid)\n",
    "MSE"
   ]
  },
  {
   "cell_type": "markdown",
   "id": "5290597e",
   "metadata": {},
   "source": [
    "We can clearly see the Three polynomial Fits resulting to a different MSE than the first Fits"
   ]
  },
  {
   "cell_type": "code",
   "execution_count": null,
   "id": "91f0d49b",
   "metadata": {},
   "outputs": [],
   "source": []
  },
  {
   "cell_type": "markdown",
   "id": "de96560f",
   "metadata": {},
   "source": [
    "## 5.3.2 Cross-Validation\n",
    "###  leave-one-out cross-validation (LOOCV) for K = N"
   ]
  },
  {
   "cell_type": "code",
   "execution_count": 19,
   "id": "eee5adfb",
   "metadata": {},
   "outputs": [
    {
     "data": {
      "text/plain": [
       "24.23151351792922"
      ]
     },
     "execution_count": 19,
     "metadata": {},
     "output_type": "execute_result"
    }
   ],
   "source": [
    "# sklearn_sm: A wrapper (from ISLP) that makes statsmodels' OLS compatible with scikit-learn’s API\n",
    "hp_model = sklearn_sm(sm.OLS, MS(['horsepower']))\n",
    "# hp_model is a pipeline object ready for cross-validation\n",
    "\n",
    "\n",
    "X, Y = Auto.drop(columns =['mpg']), Auto['mpg']\n",
    "cv_results = cross_validate(hp_model, X, Y, cv=Auto.shape[0]) # cv=Auto.shape[0] means K = n LOOCV\n",
    "cv_err = np.mean(cv_results['test_score'])\n",
    "cv_err"
   ]
  },
  {
   "cell_type": "markdown",
   "id": "1c669610",
   "metadata": {},
   "source": [
    "Estimating Validation MSE for Linear and Higher Polynomials"
   ]
  },
  {
   "cell_type": "code",
   "execution_count": null,
   "id": "c7d0e190",
   "metadata": {},
   "outputs": [
    {
     "data": {
      "text/plain": [
       "array([24.23151352, 19.24821312, 19.33498406, 19.4244303 , 19.03322411])"
      ]
     },
     "execution_count": 11,
     "metadata": {},
     "output_type": "execute_result"
    }
   ],
   "source": [
    "cv_error = np.zeros(5)\n",
    "H = np.array(Auto['horsepower'])\n",
    "M = sklearn_sm(sm.OLS)\n",
    "for i, d in enumerate(range(1,6)):\n",
    "    X = np.power.outer(H, np.arange(d+1))\n",
    "    M_CV = cross_validate(M,X,Y,cv=Auto.shape[0])\n",
    "    cv_error[i] = np.mean(M_CV['test_score'])\n",
    "cv_error"
   ]
  },
  {
   "cell_type": "markdown",
   "id": "b295d27b",
   "metadata": {},
   "source": [
    "The result still shows the `Test Error Estimate` for each of models"
   ]
  },
  {
   "cell_type": "code",
   "execution_count": null,
   "id": "3ebc2250",
   "metadata": {},
   "outputs": [],
   "source": []
  },
  {
   "cell_type": "markdown",
   "id": "65ba1ecb",
   "metadata": {},
   "source": [
    "### K Fold, for K < N"
   ]
  },
  {
   "cell_type": "code",
   "execution_count": 20,
   "id": "6976400c",
   "metadata": {},
   "outputs": [
    {
     "data": {
      "text/plain": [
       "array([24.20766449, 19.18533142, 19.27626666, 19.47848402, 19.13719154])"
      ]
     },
     "execution_count": 20,
     "metadata": {},
     "output_type": "execute_result"
    }
   ],
   "source": [
    "cv_error = np.zeros (5)\n",
    "cv = KFold(n_splits =10, shuffle=True, random_state =0) # use same splits for each degree\n",
    "for i, d in enumerate(range (1,6)):\n",
    "    X = np.power.outer(H, np.arange(d+1))\n",
    "    M_CV = cross_validate(M,X,Y,cv=cv)\n",
    "    cv_error[i] = np.mean(M_CV['test_score'])\n",
    "cv_error"
   ]
  },
  {
   "cell_type": "markdown",
   "id": "1fe8ff4c",
   "metadata": {},
   "source": [
    "#### Flexibility of the `cross_validate()` Function\n",
    "\n",
    "The `cross_validate()` function in scikit-learn is highly flexible and supports various splitting mechanisms as an argument. For example:\n",
    "- **Validation Set Approach**: Use `ShuffleSplit()` to implement the validation set approach, randomly splitting the data into training and validation sets.\n",
    "- **K-Fold Cross-Validation**: Use `KFold()` to perform k-fold cross-validation, dividing the data into \\( k \\) folds for training and testing.\n",
    "\n",
    "Both methods can be implemented as easily as each other using `cross_validate()`."
   ]
  },
  {
   "cell_type": "code",
   "execution_count": 23,
   "id": "5919eb49",
   "metadata": {},
   "outputs": [
    {
     "data": {
      "text/plain": [
       "23.61661706966988"
      ]
     },
     "execution_count": 23,
     "metadata": {},
     "output_type": "execute_result"
    }
   ],
   "source": [
    "validation = ShuffleSplit(n_splits =1, test_size =196, random_state =0)\n",
    "results = cross_validate(hp_model , Auto.drop (['mpg'], axis =1), Auto['mpg'], cv=validation)\n",
    "np.mean(results['test_score'])"
   ]
  },
  {
   "cell_type": "code",
   "execution_count": 24,
   "id": "1c6b7e40",
   "metadata": {},
   "outputs": [
    {
     "data": {
      "text/plain": [
       "(23.802232661034164, 1.4218450941091831)"
      ]
     },
     "execution_count": 24,
     "metadata": {},
     "output_type": "execute_result"
    }
   ],
   "source": [
    "validation = ShuffleSplit(n_splits =10, test_size =196, random_state =0)\n",
    "results = cross_validate(hp_model , Auto.drop (['mpg'], axis =1), Auto['mpg'], cv=validation)\n",
    "results['test_score'].mean(), results['test_score'].std()"
   ]
  },
  {
   "cell_type": "code",
   "execution_count": null,
   "id": "e4d8bca0",
   "metadata": {},
   "outputs": [],
   "source": []
  },
  {
   "cell_type": "markdown",
   "id": "645a9950",
   "metadata": {},
   "source": []
  }
 ],
 "metadata": {
  "kernelspec": {
   "display_name": "base",
   "language": "python",
   "name": "python3"
  },
  "language_info": {
   "codemirror_mode": {
    "name": "ipython",
    "version": 3
   },
   "file_extension": ".py",
   "mimetype": "text/x-python",
   "name": "python",
   "nbconvert_exporter": "python",
   "pygments_lexer": "ipython3",
   "version": "3.12.7"
  }
 },
 "nbformat": 4,
 "nbformat_minor": 5
}
